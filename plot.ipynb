{
 "cells": [
  {
   "cell_type": "code",
   "execution_count": 2,
   "metadata": {},
   "outputs": [],
   "source": [
    "import matplotlib.pyplot as plt\n",
    "import torch"
   ]
  },
  {
   "cell_type": "code",
   "execution_count": 20,
   "metadata": {},
   "outputs": [],
   "source": [
    "highD_train_ids= torch.load(\"../data/highD-gnn/training/target/edge_feat4369.pt\")"
   ]
  },
  {
   "cell_type": "code",
   "execution_count": 27,
   "metadata": {},
   "outputs": [
    {
     "name": "stdout",
     "output_type": "stream",
     "text": [
      "tensor([[  0.0000],\n",
      "        [  5.2533],\n",
      "        [ 97.7837],\n",
      "        [178.8077],\n",
      "        [237.1404],\n",
      "        [299.3739],\n",
      "        [  5.2533],\n",
      "        [  0.0000],\n",
      "        [100.6067],\n",
      "        [181.6302],\n",
      "        [240.0582],\n",
      "        [302.2206],\n",
      "        [ 97.7837],\n",
      "        [100.6067],\n",
      "        [  0.0000],\n",
      "        [ 81.0349],\n",
      "        [139.4578],\n",
      "        [201.6207],\n",
      "        [178.8077],\n",
      "        [181.6302],\n",
      "        [ 81.0349],\n",
      "        [  0.0000],\n",
      "        [ 58.5563],\n",
      "        [120.5905],\n",
      "        [237.1404],\n",
      "        [240.0582],\n",
      "        [139.4578],\n",
      "        [ 58.5563],\n",
      "        [  0.0000],\n",
      "        [ 62.3509],\n",
      "        [299.3739],\n",
      "        [302.2206],\n",
      "        [201.6207],\n",
      "        [120.5905],\n",
      "        [ 62.3509],\n",
      "        [  0.0000]])\n"
     ]
    }
   ],
   "source": [
    "print(highD_train_ids[0])"
   ]
  },
  {
   "cell_type": "code",
   "execution_count": null,
   "metadata": {},
   "outputs": [],
   "source": []
  }
 ],
 "metadata": {
  "kernelspec": {
   "display_name": "mtp",
   "language": "python",
   "name": "python3"
  },
  "language_info": {
   "codemirror_mode": {
    "name": "ipython",
    "version": 3
   },
   "file_extension": ".py",
   "mimetype": "text/x-python",
   "name": "python",
   "nbconvert_exporter": "python",
   "pygments_lexer": "ipython3",
   "version": "3.8.16"
  },
  "orig_nbformat": 4
 },
 "nbformat": 4,
 "nbformat_minor": 2
}
